{
 "cells": [
  {
   "cell_type": "code",
   "execution_count": 1,
   "id": "f50a9d35",
   "metadata": {
    "_cell_guid": "b1076dfc-b9ad-4769-8c92-a6c4dae69d19",
    "_uuid": "8f2839f25d086af736a60e9eeb907d3b93b6e0e5",
    "execution": {
     "iopub.execute_input": "2024-08-18T10:12:05.977085Z",
     "iopub.status.busy": "2024-08-18T10:12:05.976722Z",
     "iopub.status.idle": "2024-08-18T10:12:06.663903Z",
     "shell.execute_reply": "2024-08-18T10:12:06.663075Z"
    },
    "papermill": {
     "duration": 0.697177,
     "end_time": "2024-08-18T10:12:06.666356",
     "exception": false,
     "start_time": "2024-08-18T10:12:05.969179",
     "status": "completed"
    },
    "tags": []
   },
   "outputs": [],
   "source": [
    "# This Python 3 environment comes with many helpful analytics libraries installed\n",
    "# It is defined by the kaggle/python Docker image: https://github.com/kaggle/docker-python\n",
    "# For example, here's several helpful packages to load\n",
    "\n",
    "import numpy as np # linear algebra\n",
    "import pandas as pd # data processing, CSV file I/O (e.g. pd.read_csv)\n",
    "\n",
    "# Input data files are available in the read-only \"../input/\" directory\n",
    "# For example, running this (by clicking run or pressing Shift+Enter) will list all files under the input directory\n",
    "\n",
    "# import os\n",
    "# for dirname, _, filenames in os.walk('/kaggle/input'):\n",
    "#     for filename in filenames:\n",
    "#         print(os.path.join(dirname, filename))\n",
    "\n",
    "# You can write up to 20GB to the current directory (/kaggle/working/) that gets preserved as output when you create a version using \"Save & Run All\" \n",
    "# You can also write temporary files to /kaggle/temp/, but they won't be saved outside of the current session"
   ]
  },
  {
   "cell_type": "code",
   "execution_count": 2,
   "id": "597433fa",
   "metadata": {
    "execution": {
     "iopub.execute_input": "2024-08-18T10:12:06.677436Z",
     "iopub.status.busy": "2024-08-18T10:12:06.677010Z",
     "iopub.status.idle": "2024-08-18T10:12:08.193453Z",
     "shell.execute_reply": "2024-08-18T10:12:08.192431Z"
    },
    "papermill": {
     "duration": 1.5248,
     "end_time": "2024-08-18T10:12:08.196317",
     "exception": false,
     "start_time": "2024-08-18T10:12:06.671517",
     "status": "completed"
    },
    "tags": []
   },
   "outputs": [],
   "source": [
    "from xgboost import XGBClassifier\n",
    "import catboost as cb\n",
    "from sklearn.model_selection import *\n",
    "from sklearn.preprocessing import *\n",
    "from sklearn.metrics import *\n",
    "from sklearn.model_selection import StratifiedKFold\n",
    "from sklearn.impute import SimpleImputer"
   ]
  },
  {
   "cell_type": "code",
   "execution_count": 3,
   "id": "938996fe",
   "metadata": {
    "execution": {
     "iopub.execute_input": "2024-08-18T10:12:08.207820Z",
     "iopub.status.busy": "2024-08-18T10:12:08.207484Z",
     "iopub.status.idle": "2024-08-18T10:12:17.257749Z",
     "shell.execute_reply": "2024-08-18T10:12:17.256659Z"
    },
    "papermill": {
     "duration": 9.058534,
     "end_time": "2024-08-18T10:12:17.260284",
     "exception": false,
     "start_time": "2024-08-18T10:12:08.201750",
     "status": "completed"
    },
    "tags": []
   },
   "outputs": [],
   "source": [
    "train_meta_or = pd.read_csv('/kaggle/input/isic-2024-challenge/train-metadata.csv',low_memory=False)\n",
    "test_meta_or = pd.read_csv('/kaggle/input/isic-2024-challenge/test-metadata.csv',low_memory=False)\n",
    "\n",
    "train_meta = train_meta_or.drop('isic_id', axis=1)\n",
    "test_meta = test_meta_or.drop('isic_id', axis=1)\n",
    "\n",
    "y_train_df = train_meta['target']\n",
    "\n",
    "diff_train_test = set(train_meta.columns) - set(test_meta.columns)\n",
    "\n",
    "x_train_df = train_meta.drop(columns=diff_train_test)\n",
    "\n",
    "x_test_df = test_meta "
   ]
  },
  {
   "cell_type": "code",
   "execution_count": 4,
   "id": "684acf59",
   "metadata": {
    "execution": {
     "iopub.execute_input": "2024-08-18T10:12:17.271100Z",
     "iopub.status.busy": "2024-08-18T10:12:17.270798Z",
     "iopub.status.idle": "2024-08-18T10:12:17.831750Z",
     "shell.execute_reply": "2024-08-18T10:12:17.830955Z"
    },
    "papermill": {
     "duration": 0.568826,
     "end_time": "2024-08-18T10:12:17.834016",
     "exception": false,
     "start_time": "2024-08-18T10:12:17.265190",
     "status": "completed"
    },
    "tags": []
   },
   "outputs": [],
   "source": [
    "mean = x_train_df[\"age_approx\"].mean()\n",
    "\n",
    "num_imputer = SimpleImputer(strategy='constant', fill_value=mean)\n",
    "\n",
    "x_train_df[\"age_approx\"] = num_imputer.fit_transform(x_train_df[[\"age_approx\"]])\n",
    "x_test_df[\"age_approx\"] = num_imputer.transform(x_test_df[[\"age_approx\"]])\n",
    "\n",
    "x_train_df = x_train_df.fillna(\"miss\")\n",
    "x_test_df = x_test_df.fillna(\"miss\")"
   ]
  },
  {
   "cell_type": "code",
   "execution_count": 5,
   "id": "fda2d380",
   "metadata": {
    "execution": {
     "iopub.execute_input": "2024-08-18T10:12:17.844878Z",
     "iopub.status.busy": "2024-08-18T10:12:17.844579Z",
     "iopub.status.idle": "2024-08-18T10:12:17.848320Z",
     "shell.execute_reply": "2024-08-18T10:12:17.847507Z"
    },
    "papermill": {
     "duration": 0.011071,
     "end_time": "2024-08-18T10:12:17.850140",
     "exception": false,
     "start_time": "2024-08-18T10:12:17.839069",
     "status": "completed"
    },
    "tags": []
   },
   "outputs": [],
   "source": [
    "# x_train_df.info()"
   ]
  },
  {
   "cell_type": "code",
   "execution_count": 6,
   "id": "8ff540a8",
   "metadata": {
    "execution": {
     "iopub.execute_input": "2024-08-18T10:12:17.860174Z",
     "iopub.status.busy": "2024-08-18T10:12:17.859926Z",
     "iopub.status.idle": "2024-08-18T10:12:17.866030Z",
     "shell.execute_reply": "2024-08-18T10:12:17.865285Z"
    },
    "papermill": {
     "duration": 0.013398,
     "end_time": "2024-08-18T10:12:17.867991",
     "exception": false,
     "start_time": "2024-08-18T10:12:17.854593",
     "status": "completed"
    },
    "tags": []
   },
   "outputs": [
    {
     "data": {
      "text/plain": [
       "43"
      ]
     },
     "execution_count": 6,
     "metadata": {},
     "output_type": "execute_result"
    }
   ],
   "source": [
    "len(x_test_df.columns)"
   ]
  },
  {
   "cell_type": "code",
   "execution_count": 7,
   "id": "6c9bd7ae",
   "metadata": {
    "execution": {
     "iopub.execute_input": "2024-08-18T10:12:17.878761Z",
     "iopub.status.busy": "2024-08-18T10:12:17.878078Z",
     "iopub.status.idle": "2024-08-18T10:12:17.884422Z",
     "shell.execute_reply": "2024-08-18T10:12:17.883566Z"
    },
    "papermill": {
     "duration": 0.013581,
     "end_time": "2024-08-18T10:12:17.886230",
     "exception": false,
     "start_time": "2024-08-18T10:12:17.872649",
     "status": "completed"
    },
    "tags": []
   },
   "outputs": [],
   "source": [
    "def calc_auc(solution: pd.DataFrame, submission: pd.DataFrame, min_tpr: float=0.80):\n",
    "    '''\n",
    "    Function to calculate tpr from auc\n",
    "    solution : target\n",
    "    submission : predict \n",
    "    '''\n",
    "    v_gt = abs(np.asarray(solution.values)-1)\n",
    "    v_pred = np.array([1.0 - x for x in submission.values])\n",
    "    max_fpr = abs(1-min_tpr)\n",
    "    partial_auc_scaled = roc_auc_score(v_gt, v_pred, max_fpr=max_fpr)\n",
    "    partial_auc = 0.5 * max_fpr**2 + (max_fpr - 0.5 * max_fpr**2) / (1.0 - 0.5) * (partial_auc_scaled - 0.5)\n",
    "    return partial_auc"
   ]
  },
  {
   "cell_type": "code",
   "execution_count": 8,
   "id": "800faa15",
   "metadata": {
    "execution": {
     "iopub.execute_input": "2024-08-18T10:12:17.897058Z",
     "iopub.status.busy": "2024-08-18T10:12:17.896349Z",
     "iopub.status.idle": "2024-08-18T10:12:17.906432Z",
     "shell.execute_reply": "2024-08-18T10:12:17.905574Z"
    },
    "papermill": {
     "duration": 0.017537,
     "end_time": "2024-08-18T10:12:17.908424",
     "exception": false,
     "start_time": "2024-08-18T10:12:17.890887",
     "status": "completed"
    },
    "tags": []
   },
   "outputs": [],
   "source": [
    "def train_model(main_model,X,y,X_test,n_splits):\n",
    "    \n",
    "    skf = StratifiedKFold(n_splits=n_splits,shuffle=True,random_state=42)\n",
    "    train_scores = []\n",
    "    val_scores = []\n",
    "    test_predictions = [] \n",
    "    models = []\n",
    "    \n",
    "    for fold, (train_index, test_index) in enumerate(skf.split(X, y), 1):\n",
    "        \n",
    "        x_train, x_val = X.iloc[train_index], X.iloc[test_index]\n",
    "        y_train, y_val = y.iloc[train_index], y.iloc[test_index]\n",
    "        \n",
    "        model = main_model\n",
    "        \n",
    "        model.fit(x_train,y_train)\n",
    "        \n",
    "        y_train_pred_proba = model.predict_proba(x_train)[:, 1]\n",
    "        y_train_pred_df = pd.DataFrame(y_train_pred_proba, columns=['pred'])\n",
    "        train_pauc = calc_auc(y_train,y_train_pred_df,min_tpr=0.8)\n",
    "        train_scores.append(train_pauc)\n",
    "                                 \n",
    "        y_val_pred_proba = model.predict_proba(x_val)[:, 1]\n",
    "        y_val_pred_df = pd.DataFrame(y_val_pred_proba, columns=['pred'])\n",
    "        val_pauc = calc_auc(y_val,y_val_pred_df,min_tpr=0.8)\n",
    "        val_scores.append(val_pauc)\n",
    "                                       \n",
    "        y_test_pred_proba = model.predict_proba(X_test)[:, 1]\n",
    "        test_predictions.append(y_test_pred_proba)\n",
    "        \n",
    "        models.append(model)\n",
    "        \n",
    "        print(f\"Fold {fold}: Train pAUC = {train_pauc:.4f}, Validation pAUC = {val_pauc:.4f}\")\n",
    "                                       \n",
    "    mean_train_pauc = np.mean(train_scores)\n",
    "    mean_val_pauc = np.mean(val_scores)         \n",
    "    \n",
    "    print(f\"\\nMean Train pAUC: {mean_train_pauc:.4f}\")\n",
    "    print(f\"Mean Validation pAUC: {mean_val_pauc:.4f}\")\n",
    "                                 \n",
    "    return model,test_predictions,models\n",
    "\n",
    "    "
   ]
  },
  {
   "cell_type": "code",
   "execution_count": 9,
   "id": "91cdffcf",
   "metadata": {
    "execution": {
     "iopub.execute_input": "2024-08-18T10:12:17.918798Z",
     "iopub.status.busy": "2024-08-18T10:12:17.918540Z",
     "iopub.status.idle": "2024-08-18T10:12:17.922307Z",
     "shell.execute_reply": "2024-08-18T10:12:17.921489Z"
    },
    "papermill": {
     "duration": 0.011092,
     "end_time": "2024-08-18T10:12:17.924096",
     "exception": false,
     "start_time": "2024-08-18T10:12:17.913004",
     "status": "completed"
    },
    "tags": []
   },
   "outputs": [],
   "source": [
    "cat_cols = [\"sex\", \"tbp_tile_type\", \"tbp_lv_location\", \"tbp_lv_location_simple\",'patient_id',\n",
    "   'anatom_site_general','copyright_license','attribution','image_type']"
   ]
  },
  {
   "cell_type": "code",
   "execution_count": 10,
   "id": "a8cf12ca",
   "metadata": {
    "execution": {
     "iopub.execute_input": "2024-08-18T10:12:17.934900Z",
     "iopub.status.busy": "2024-08-18T10:12:17.934644Z",
     "iopub.status.idle": "2024-08-18T10:12:17.941640Z",
     "shell.execute_reply": "2024-08-18T10:12:17.940793Z"
    },
    "papermill": {
     "duration": 0.014382,
     "end_time": "2024-08-18T10:12:17.943592",
     "exception": false,
     "start_time": "2024-08-18T10:12:17.929210",
     "status": "completed"
    },
    "tags": []
   },
   "outputs": [],
   "source": [
    "cb_params = {\n",
    "    'objective': 'Logloss',\n",
    "    \"random_state\": 8640,\n",
    "    \"cat_features\": cat_cols,\n",
    "    \"max_depth\": 7,\n",
    "    \"l2_leaf_reg\": 5,\n",
    "    \"task_type\": \"GPU\",\n",
    "    \"verbose\": 0,\n",
    "}\n",
    "\n",
    "cb_Model = cb.CatBoostClassifier(**cb_params)"
   ]
  },
  {
   "cell_type": "code",
   "execution_count": null,
   "id": "1036ffa4",
   "metadata": {
    "papermill": {
     "duration": 0.004389,
     "end_time": "2024-08-18T10:12:17.952601",
     "exception": false,
     "start_time": "2024-08-18T10:12:17.948212",
     "status": "completed"
    },
    "tags": []
   },
   "outputs": [],
   "source": []
  },
  {
   "cell_type": "code",
   "execution_count": 11,
   "id": "1c870b6f",
   "metadata": {
    "execution": {
     "iopub.execute_input": "2024-08-18T10:12:17.963196Z",
     "iopub.status.busy": "2024-08-18T10:12:17.962590Z",
     "iopub.status.idle": "2024-08-18T10:17:03.980068Z",
     "shell.execute_reply": "2024-08-18T10:17:03.979055Z"
    },
    "papermill": {
     "duration": 286.029729,
     "end_time": "2024-08-18T10:17:03.986888",
     "exception": false,
     "start_time": "2024-08-18T10:12:17.957159",
     "status": "completed"
    },
    "tags": []
   },
   "outputs": [
    {
     "name": "stdout",
     "output_type": "stream",
     "text": [
      "Fold 1: Train pAUC = 0.1883, Validation pAUC = 0.1653\n",
      "Fold 2: Train pAUC = 0.1887, Validation pAUC = 0.1718\n",
      "Fold 3: Train pAUC = 0.1867, Validation pAUC = 0.1615\n",
      "Fold 4: Train pAUC = 0.1907, Validation pAUC = 0.1586\n",
      "Fold 5: Train pAUC = 0.1860, Validation pAUC = 0.1780\n",
      "\n",
      "Mean Train pAUC: 0.1881\n",
      "Mean Validation pAUC: 0.1670\n"
     ]
    }
   ],
   "source": [
    "k_folds = 5\n",
    "trained_cb,test_preds,all_models = train_model(cb_Model,x_train_df,y_train_df,x_test_df,k_folds)"
   ]
  },
  {
   "cell_type": "code",
   "execution_count": 12,
   "id": "9c6db5bf",
   "metadata": {
    "execution": {
     "iopub.execute_input": "2024-08-18T10:17:03.998368Z",
     "iopub.status.busy": "2024-08-18T10:17:03.998027Z",
     "iopub.status.idle": "2024-08-18T10:17:04.003694Z",
     "shell.execute_reply": "2024-08-18T10:17:04.002844Z"
    },
    "papermill": {
     "duration": 0.013594,
     "end_time": "2024-08-18T10:17:04.005611",
     "exception": false,
     "start_time": "2024-08-18T10:17:03.992017",
     "status": "completed"
    },
    "tags": []
   },
   "outputs": [],
   "source": [
    "test_outputs = np.zeros(len(x_test_df))\n",
    "\n",
    "for i in range(k_folds) :\n",
    "    test_outputs += test_preds[i]\n",
    "    \n",
    "test_outputs /= k_folds\n",
    "\n",
    "df_sample_submission = pd.DataFrame({'isic_id' : test_meta_or['isic_id'],'target' : test_outputs}) \n",
    "\n"
   ]
  },
  {
   "cell_type": "code",
   "execution_count": 13,
   "id": "dafc5269",
   "metadata": {
    "execution": {
     "iopub.execute_input": "2024-08-18T10:17:04.016838Z",
     "iopub.status.busy": "2024-08-18T10:17:04.016555Z",
     "iopub.status.idle": "2024-08-18T10:17:04.028098Z",
     "shell.execute_reply": "2024-08-18T10:17:04.027185Z"
    },
    "papermill": {
     "duration": 0.019523,
     "end_time": "2024-08-18T10:17:04.030191",
     "exception": false,
     "start_time": "2024-08-18T10:17:04.010668",
     "status": "completed"
    },
    "tags": []
   },
   "outputs": [
    {
     "data": {
      "text/html": [
       "<div>\n",
       "<style scoped>\n",
       "    .dataframe tbody tr th:only-of-type {\n",
       "        vertical-align: middle;\n",
       "    }\n",
       "\n",
       "    .dataframe tbody tr th {\n",
       "        vertical-align: top;\n",
       "    }\n",
       "\n",
       "    .dataframe thead th {\n",
       "        text-align: right;\n",
       "    }\n",
       "</style>\n",
       "<table border=\"1\" class=\"dataframe\">\n",
       "  <thead>\n",
       "    <tr style=\"text-align: right;\">\n",
       "      <th></th>\n",
       "      <th>isic_id</th>\n",
       "      <th>target</th>\n",
       "    </tr>\n",
       "  </thead>\n",
       "  <tbody>\n",
       "    <tr>\n",
       "      <th>0</th>\n",
       "      <td>ISIC_0015657</td>\n",
       "      <td>0.000227</td>\n",
       "    </tr>\n",
       "    <tr>\n",
       "      <th>1</th>\n",
       "      <td>ISIC_0015729</td>\n",
       "      <td>0.000021</td>\n",
       "    </tr>\n",
       "    <tr>\n",
       "      <th>2</th>\n",
       "      <td>ISIC_0015740</td>\n",
       "      <td>0.000519</td>\n",
       "    </tr>\n",
       "  </tbody>\n",
       "</table>\n",
       "</div>"
      ],
      "text/plain": [
       "        isic_id    target\n",
       "0  ISIC_0015657  0.000227\n",
       "1  ISIC_0015729  0.000021\n",
       "2  ISIC_0015740  0.000519"
      ]
     },
     "execution_count": 13,
     "metadata": {},
     "output_type": "execute_result"
    }
   ],
   "source": [
    "df_sample_submission"
   ]
  },
  {
   "cell_type": "code",
   "execution_count": 14,
   "id": "41a903d1",
   "metadata": {
    "execution": {
     "iopub.execute_input": "2024-08-18T10:17:04.042125Z",
     "iopub.status.busy": "2024-08-18T10:17:04.041847Z",
     "iopub.status.idle": "2024-08-18T10:17:04.047844Z",
     "shell.execute_reply": "2024-08-18T10:17:04.047142Z"
    },
    "papermill": {
     "duration": 0.013845,
     "end_time": "2024-08-18T10:17:04.049661",
     "exception": false,
     "start_time": "2024-08-18T10:17:04.035816",
     "status": "completed"
    },
    "tags": []
   },
   "outputs": [],
   "source": [
    "df_sample_submission.to_csv('/kaggle/working/submission.csv',index=False)"
   ]
  }
 ],
 "metadata": {
  "kaggle": {
   "accelerator": "gpu",
   "dataSources": [
    {
     "databundleVersionId": 9094797,
     "sourceId": 63056,
     "sourceType": "competition"
    }
   ],
   "dockerImageVersionId": 30747,
   "isGpuEnabled": true,
   "isInternetEnabled": false,
   "language": "python",
   "sourceType": "notebook"
  },
  "kernelspec": {
   "display_name": "Python 3",
   "language": "python",
   "name": "python3"
  },
  "language_info": {
   "codemirror_mode": {
    "name": "ipython",
    "version": 3
   },
   "file_extension": ".py",
   "mimetype": "text/x-python",
   "name": "python",
   "nbconvert_exporter": "python",
   "pygments_lexer": "ipython3",
   "version": "3.10.13"
  },
  "papermill": {
   "default_parameters": {},
   "duration": 301.501808,
   "end_time": "2024-08-18T10:17:04.673500",
   "environment_variables": {},
   "exception": null,
   "input_path": "__notebook__.ipynb",
   "output_path": "__notebook__.ipynb",
   "parameters": {},
   "start_time": "2024-08-18T10:12:03.171692",
   "version": "2.5.0"
  }
 },
 "nbformat": 4,
 "nbformat_minor": 5
}

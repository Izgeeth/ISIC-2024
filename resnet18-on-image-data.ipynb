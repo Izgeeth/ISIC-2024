{
 "cells": [
  {
   "cell_type": "code",
   "execution_count": 1,
   "id": "d598de82",
   "metadata": {
    "_cell_guid": "b1076dfc-b9ad-4769-8c92-a6c4dae69d19",
    "_uuid": "8f2839f25d086af736a60e9eeb907d3b93b6e0e5",
    "execution": {
     "iopub.execute_input": "2024-09-01T03:10:04.907303Z",
     "iopub.status.busy": "2024-09-01T03:10:04.906855Z",
     "iopub.status.idle": "2024-09-01T03:10:05.674778Z",
     "shell.execute_reply": "2024-09-01T03:10:05.673968Z"
    },
    "papermill": {
     "duration": 0.781679,
     "end_time": "2024-09-01T03:10:05.677130",
     "exception": false,
     "start_time": "2024-09-01T03:10:04.895451",
     "status": "completed"
    },
    "tags": []
   },
   "outputs": [],
   "source": [
    "# This Python 3 environment comes with many helpful analytics libraries installed\n",
    "# It is defined by the kaggle/python Docker image: https://github.com/kaggle/docker-python\n",
    "# For example, here's several helpful packages to load\n",
    "\n",
    "import numpy as np # linear algebra\n",
    "import pandas as pd # data processing, CSV file I/O (e.g. pd.read_csv)\n",
    "\n",
    "# Input data files are available in the read-only \"../input/\" directory\n",
    "# For example, running this (by clicking run or pressing Shift+Enter) will list all files under the input directory\n",
    "\n",
    "# import os\n",
    "# for dirname, _, filenames in os.walk('/kaggle/input'):\n",
    "#     for filename in filenames:\n",
    "#         os.path.join(dirname, filename)\n",
    "\n",
    "# You can write up to 20GB to the current directory (/kaggle/working/) that gets preserved as output when you create a version using \"Save & Run All\" \n",
    "# You can also write temporary files to /kaggle/temp/, but they won't be saved outside of the current session"
   ]
  },
  {
   "cell_type": "code",
   "execution_count": 2,
   "id": "aaa4c913",
   "metadata": {
    "execution": {
     "iopub.execute_input": "2024-09-01T03:10:05.697529Z",
     "iopub.status.busy": "2024-09-01T03:10:05.697127Z",
     "iopub.status.idle": "2024-09-01T03:10:12.897814Z",
     "shell.execute_reply": "2024-09-01T03:10:12.896828Z"
    },
    "papermill": {
     "duration": 7.213409,
     "end_time": "2024-09-01T03:10:12.900365",
     "exception": false,
     "start_time": "2024-09-01T03:10:05.686956",
     "status": "completed"
    },
    "tags": []
   },
   "outputs": [],
   "source": [
    "import torch\n",
    "import torch.nn as nn\n",
    "import torch.optim as optim\n",
    "from torchvision import models, transforms\n",
    "from torch.utils.data import Dataset, DataLoader, random_split\n",
    "import h5py,io\n",
    "import albumentations as A\n",
    "from albumentations.pytorch import ToTensorV2\n",
    "from PIL import Image\n",
    "from tqdm.auto import tqdm\n",
    "from sklearn.metrics import roc_auc_score\n",
    "import torch.optim.lr_scheduler as lr_scheduler"
   ]
  },
  {
   "cell_type": "code",
   "execution_count": 3,
   "id": "cfc33f1a",
   "metadata": {
    "execution": {
     "iopub.execute_input": "2024-09-01T03:10:12.920708Z",
     "iopub.status.busy": "2024-09-01T03:10:12.920227Z",
     "iopub.status.idle": "2024-09-01T03:10:12.985426Z",
     "shell.execute_reply": "2024-09-01T03:10:12.984442Z"
    },
    "papermill": {
     "duration": 0.077379,
     "end_time": "2024-09-01T03:10:12.987475",
     "exception": false,
     "start_time": "2024-09-01T03:10:12.910096",
     "status": "completed"
    },
    "tags": []
   },
   "outputs": [],
   "source": [
    "device = torch.device(\"cuda\" if torch.cuda.is_available() else \"cpu\")"
   ]
  },
  {
   "cell_type": "code",
   "execution_count": null,
   "id": "01462f4e",
   "metadata": {
    "execution": {
     "iopub.execute_input": "2024-09-01T03:10:13.007775Z",
     "iopub.status.busy": "2024-09-01T03:10:13.006973Z",
     "iopub.status.idle": "2024-09-01T03:10:13.010632Z",
     "shell.execute_reply": "2024-09-01T03:10:13.009961Z"
    },
    "papermill": {
     "duration": 0.015781,
     "end_time": "2024-09-01T03:10:13.012463",
     "exception": false,
     "start_time": "2024-09-01T03:10:12.996682",
     "status": "completed"
    },
    "tags": []
   },
   "outputs": [],
   "source": [
    "train_meta='/kaggle/input/isic-2024-challenge/train-metadata.csv'\n",
    "train_hdf5='/kaggle/input/isic-2024-challenge/train-image.hdf5'"
   ]
  },
  {
   "cell_type": "code",
   "execution_count": null,
   "id": "cb2f52d2",
   "metadata": {
    "execution": {
     "iopub.execute_input": "2024-09-01T03:10:13.033880Z",
     "iopub.status.busy": "2024-09-01T03:10:13.033174Z",
     "iopub.status.idle": "2024-09-01T03:10:13.037581Z",
     "shell.execute_reply": "2024-09-01T03:10:13.036658Z"
    },
    "papermill": {
     "duration": 0.017461,
     "end_time": "2024-09-01T03:10:13.039736",
     "exception": false,
     "start_time": "2024-09-01T03:10:13.022275",
     "status": "completed"
    },
    "tags": []
   },
   "outputs": [],
   "source": [
    "train_transformations = A.Compose([\n",
    "    A.Resize(height=224, width=224), #resize \n",
    "    A.OneOf([A.RGBShift(r_shift_limit=15, g_shift_limit=15, b_shift_limit=15),\n",
    "             A.RandomBrightnessContrast() \n",
    "             ], p=0.5),\n",
    "    A.HorizontalFlip(p=0.5),\n",
    "    A.VerticalFlip(p=0.5),\n",
    "    # !!One needs to change the mean and std values to appropriate ones for this dataset.!!\n",
    "    A.transforms.Normalize(mean=[0.485, 0.456, 0.406], std=[0.229, 0.224, 0.225], max_pixel_value=1.0),\n",
    "    ToTensorV2(),\n",
    "])"
   ]
  },
  {
   "cell_type": "code",
   "execution_count": null,
   "id": "da4932be",
   "metadata": {
    "execution": {
     "iopub.execute_input": "2024-09-01T03:10:13.061300Z",
     "iopub.status.busy": "2024-09-01T03:10:13.061012Z",
     "iopub.status.idle": "2024-09-01T03:10:13.065397Z",
     "shell.execute_reply": "2024-09-01T03:10:13.064375Z"
    },
    "papermill": {
     "duration": 0.017334,
     "end_time": "2024-09-01T03:10:13.067453",
     "exception": false,
     "start_time": "2024-09-01T03:10:13.050119",
     "status": "completed"
    },
    "tags": []
   },
   "outputs": [],
   "source": [
    "val_transformations = A.Compose([\n",
    "    A.Resize(height=224, width=224), #resize \n",
    "    A.OneOf([A.RGBShift(r_shift_limit=15, g_shift_limit=15, b_shift_limit=15),\n",
    "             A.RandomBrightnessContrast() \n",
    "             ], p=0.5),\n",
    "    A.HorizontalFlip(p=0.5),\n",
    "    A.VerticalFlip(p=0.5),\n",
    "    A.transforms.Normalize(mean=[0.485, 0.456, 0.406], std=[0.229, 0.224, 0.225], max_pixel_value=1.0),\n",
    "    ToTensorV2(),\n",
    "])"
   ]
  },
  {
   "cell_type": "code",
   "execution_count": null,
   "id": "5b7924bd",
   "metadata": {
    "execution": {
     "iopub.execute_input": "2024-09-01T03:10:13.089442Z",
     "iopub.status.busy": "2024-09-01T03:10:13.089177Z",
     "iopub.status.idle": "2024-09-01T03:10:13.093500Z",
     "shell.execute_reply": "2024-09-01T03:10:13.092679Z"
    },
    "papermill": {
     "duration": 0.017166,
     "end_time": "2024-09-01T03:10:13.095504",
     "exception": false,
     "start_time": "2024-09-01T03:10:13.078338",
     "status": "completed"
    },
    "tags": []
   },
   "outputs": [],
   "source": [
    "\n",
    "class HDF5Dataset_train(Dataset): #defining the dataset \n",
    "    def __init__(self, data, metadata, transform=None):\n",
    "        self.data = h5py.File(data, 'r') #creating data argument\n",
    "        if type(metadata) is pd.DataFrame:\n",
    "            self.metadata = metadata\n",
    "        else:\n",
    "            self.metadata = pd.read_csv(metadata,low_memory = False)\n",
    "        self.transform = transform #creating transform argument \n",
    "\n",
    "    def __len__(self):\n",
    "        return len(self.metadata) #returns dataset \n",
    "\n",
    "    def __getitem__(self, idx):#gets image and label \n",
    "        img_name = self.metadata['isic_id'].iloc[idx] #accesses image filepath \n",
    "        image = np.array(self.data[img_name]) #opens image\n",
    "        image = np.array(Image.open(io.BytesIO(image)),dtype=np.float32)/255\n",
    "\n",
    "        label = int(self.metadata['target'].iloc[idx]) #find the label \n",
    "\n",
    "        if self.transform:\n",
    "            augmented = self.transform(image=image) #transformation \n",
    "            image = augmented['image'] #grab the augmented image \n",
    "             \n",
    "        return image, label"
   ]
  },
  {
   "cell_type": "code",
   "execution_count": null,
   "id": "9ecd1dcf",
   "metadata": {
    "execution": {
     "iopub.execute_input": "2024-09-01T03:10:13.114798Z",
     "iopub.status.busy": "2024-09-01T03:10:13.114506Z",
     "iopub.status.idle": "2024-09-01T03:10:13.119034Z",
     "shell.execute_reply": "2024-09-01T03:10:13.118134Z"
    },
    "papermill": {
     "duration": 0.0163,
     "end_time": "2024-09-01T03:10:13.120995",
     "exception": false,
     "start_time": "2024-09-01T03:10:13.104695",
     "status": "completed"
    },
    "tags": []
   },
   "outputs": [],
   "source": [
    "class HDF5Dataset_val(Dataset): #defining the dataset \n",
    "    def __init__(self, data, metadata, transform=None):\n",
    "        self.data = h5py.File(data, 'r') #creating data argument\n",
    "        if type(metadata) is pd.DataFrame:\n",
    "            self.metadata = metadata\n",
    "        else:\n",
    "            self.metadata = pd.read_csv(metadata,low_memory = False)\n",
    "        self.transform = transform #creating transform argument \n",
    "\n",
    "    def __len__(self):\n",
    "        return len(self.metadata) #returns dataset \n",
    "\n",
    "    def __getitem__(self, idx):#gets image and label \n",
    "        img_name = self.metadata['isic_id'].iloc[idx] #accesses image filepath \n",
    "        image = np.array(self.data[img_name]) #opens image\n",
    "        image = np.array(Image.open(io.BytesIO(image)),dtype=np.float32)/255\n",
    "\n",
    "        label = int(self.metadata['target'].iloc[idx]) #find the label \n",
    "\n",
    "        if self.transform:\n",
    "            augmented = self.transform(image=image) #transformation \n",
    "            image = augmented['image'] #grab the augmented image \n",
    "\n",
    "        return image, label"
   ]
  },
  {
   "cell_type": "code",
   "execution_count": null,
   "id": "b3316c45",
   "metadata": {
    "execution": {
     "iopub.execute_input": "2024-09-01T03:10:13.140606Z",
     "iopub.status.busy": "2024-09-01T03:10:13.140347Z",
     "iopub.status.idle": "2024-09-01T03:10:13.144400Z",
     "shell.execute_reply": "2024-09-01T03:10:13.143532Z"
    },
    "papermill": {
     "duration": 0.016305,
     "end_time": "2024-09-01T03:10:13.146594",
     "exception": false,
     "start_time": "2024-09-01T03:10:13.130289",
     "status": "completed"
    },
    "tags": []
   },
   "outputs": [],
   "source": [
    "train_meta_df = pd.read_csv(train_meta,low_memory = False)\n",
    "\n",
    "train_size = int(0.9 * len(train_meta_df))\n",
    "# val_size = len(train_data) - train_size\n",
    "\n",
    "\n",
    "train_set = HDF5Dataset_train(train_hdf5,train_meta_df.iloc[0:train_size],train_transformations)\n",
    "# val_set = HDF5Dataset_val(train_hdf5,train_meta_df.iloc[train_size:len(train_data)],val_transformations)\n",
    "\n",
    "\n",
    "train_batch_size = 64\n",
    "val_batch_size = 64\n",
    "\n",
    "torch.manual_seed(42)\n",
    "\n",
    "# train_set,val_set = random_split(train_data ,[train_size, val_size])"
   ]
  },
  {
   "cell_type": "code",
   "execution_count": 10,
   "id": "5d409b60",
   "metadata": {
    "execution": {
     "iopub.execute_input": "2024-09-01T03:10:13.166346Z",
     "iopub.status.busy": "2024-09-01T03:10:13.166045Z",
     "iopub.status.idle": "2024-09-01T03:10:13.169858Z",
     "shell.execute_reply": "2024-09-01T03:10:13.168950Z"
    },
    "papermill": {
     "duration": 0.016597,
     "end_time": "2024-09-01T03:10:13.172050",
     "exception": false,
     "start_time": "2024-09-01T03:10:13.155453",
     "status": "completed"
    },
    "tags": []
   },
   "outputs": [],
   "source": [
    "# train_size"
   ]
  },
  {
   "cell_type": "code",
   "execution_count": null,
   "id": "3018dfbf",
   "metadata": {
    "execution": {
     "iopub.execute_input": "2024-09-01T03:10:13.193147Z",
     "iopub.status.busy": "2024-09-01T03:10:13.192830Z",
     "iopub.status.idle": "2024-09-01T03:10:13.196910Z",
     "shell.execute_reply": "2024-09-01T03:10:13.195939Z"
    },
    "papermill": {
     "duration": 0.016964,
     "end_time": "2024-09-01T03:10:13.199122",
     "exception": false,
     "start_time": "2024-09-01T03:10:13.182158",
     "status": "completed"
    },
    "tags": []
   },
   "outputs": [],
   "source": [
    "train_data_loader = DataLoader(train_set,train_batch_size,shuffle=True)\n",
    "val_data_loader = DataLoader(val_set,val_batch_size,shuffle=False)"
   ]
  },
  {
   "cell_type": "code",
   "execution_count": null,
   "id": "29dfb2e0",
   "metadata": {
    "execution": {
     "iopub.execute_input": "2024-09-01T03:10:13.220332Z",
     "iopub.status.busy": "2024-09-01T03:10:13.220025Z",
     "iopub.status.idle": "2024-09-01T03:10:13.223935Z",
     "shell.execute_reply": "2024-09-01T03:10:13.222985Z"
    },
    "papermill": {
     "duration": 0.017133,
     "end_time": "2024-09-01T03:10:13.226181",
     "exception": false,
     "start_time": "2024-09-01T03:10:13.209048",
     "status": "completed"
    },
    "tags": []
   },
   "outputs": [],
   "source": [
    "from torchvision.models import ResNet18_Weights\n",
    "weights = ResNet18_Weights.IMAGENET1K_V1"
   ]
  },
  {
   "cell_type": "code",
   "execution_count": null,
   "id": "7613a8e7",
   "metadata": {
    "papermill": {
     "duration": 0.009932,
     "end_time": "2024-09-01T03:10:13.246546",
     "exception": false,
     "start_time": "2024-09-01T03:10:13.236614",
     "status": "completed"
    },
    "tags": []
   },
   "outputs": [],
   "source": []
  },
  {
   "cell_type": "code",
   "execution_count": null,
   "id": "d4909d9f",
   "metadata": {
    "execution": {
     "iopub.execute_input": "2024-09-01T03:10:13.267661Z",
     "iopub.status.busy": "2024-09-01T03:10:13.267359Z",
     "iopub.status.idle": "2024-09-01T03:10:13.271616Z",
     "shell.execute_reply": "2024-09-01T03:10:13.270698Z"
    },
    "papermill": {
     "duration": 0.017106,
     "end_time": "2024-09-01T03:10:13.273681",
     "exception": false,
     "start_time": "2024-09-01T03:10:13.256575",
     "status": "completed"
    },
    "tags": []
   },
   "outputs": [],
   "source": [
    "model = models.resnet18().to(device)\n",
    "model.fc = nn.Sequential(nn.Flatten(),\n",
    "                         nn.Linear(model.fc.in_features,64),\n",
    "                         nn.ReLU(),\n",
    "                         nn.Dropout(p=0.5),\n",
    "                         nn.Linear(64,1),\n",
    "                         nn.Sigmoid()).to(device)\n",
    "\n",
    "\n",
    "model.load_state_dict(torch.load(f='/kaggle/input/resnet-furtrain/model_resnet (3).pth'))\n",
    "\n",
    "\n",
    "for param in model.parameters():\n",
    "    param.requires_grad = True"
   ]
  },
  {
   "cell_type": "code",
   "execution_count": null,
   "id": "ff977bc6",
   "metadata": {
    "execution": {
     "iopub.execute_input": "2024-09-01T03:10:13.295334Z",
     "iopub.status.busy": "2024-09-01T03:10:13.295025Z",
     "iopub.status.idle": "2024-09-01T03:10:13.298935Z",
     "shell.execute_reply": "2024-09-01T03:10:13.297970Z"
    },
    "papermill": {
     "duration": 0.017182,
     "end_time": "2024-09-01T03:10:13.301036",
     "exception": false,
     "start_time": "2024-09-01T03:10:13.283854",
     "status": "completed"
    },
    "tags": []
   },
   "outputs": [],
   "source": [
    "epochs = 10\n",
    "\n",
    "loss_1 = nn.BCELoss()\n",
    "optimizer = optim.Adam(model.parameters(),lr=0.00001)\n",
    "\n",
    "scheduler = lr_scheduler.StepLR(optimizer, step_size=8 , gamma=0.1)"
   ]
  },
  {
   "cell_type": "code",
   "execution_count": null,
   "id": "9529127f",
   "metadata": {
    "execution": {
     "iopub.execute_input": "2024-09-01T03:10:13.322388Z",
     "iopub.status.busy": "2024-09-01T03:10:13.322076Z",
     "iopub.status.idle": "2024-09-01T03:10:13.326456Z",
     "shell.execute_reply": "2024-09-01T03:10:13.325550Z"
    },
    "papermill": {
     "duration": 0.017467,
     "end_time": "2024-09-01T03:10:13.328565",
     "exception": false,
     "start_time": "2024-09-01T03:10:13.311098",
     "status": "completed"
    },
    "tags": []
   },
   "outputs": [],
   "source": [
    "for epoch in tqdm(range(epochs)) :\n",
    "  model.train()\n",
    "  running_loss = 0 \n",
    "  for images,labels in tqdm(train_data_loader) :\n",
    "    images,labels = images.to(device),labels.to(device)\n",
    "    optimizer.zero_grad()\n",
    "    output = model(images)\n",
    "    loss = loss_1(output.squeeze(),labels.type(torch.float))\n",
    "    loss.backward()\n",
    "    optimizer.step()\n",
    "    running_loss += loss.item()*train_batch_size \n",
    "  avg_epoch_loss = running_loss/len(train_set)\n",
    "  print(f\"epoch {epoch+1}/{epochs} loss : {avg_epoch_loss}\")\n",
    "  scheduler.step()"
   ]
  },
  {
   "cell_type": "code",
   "execution_count": null,
   "id": "0414366d",
   "metadata": {
    "execution": {
     "iopub.execute_input": "2024-09-01T03:10:13.350476Z",
     "iopub.status.busy": "2024-09-01T03:10:13.350170Z",
     "iopub.status.idle": "2024-09-01T03:10:13.354148Z",
     "shell.execute_reply": "2024-09-01T03:10:13.353209Z"
    },
    "papermill": {
     "duration": 0.017503,
     "end_time": "2024-09-01T03:10:13.356310",
     "exception": false,
     "start_time": "2024-09-01T03:10:13.338807",
     "status": "completed"
    },
    "tags": []
   },
   "outputs": [],
   "source": [
    "path='/kaggle/working/model_resnet.pth'\n",
    "torch.save(obj=model.state_dict(),\n",
    "          f=path)"
   ]
  },
  {
   "cell_type": "markdown",
   "id": "a8c2ca54",
   "metadata": {
    "papermill": {
     "duration": 0.010017,
     "end_time": "2024-09-01T03:10:13.376512",
     "exception": false,
     "start_time": "2024-09-01T03:10:13.366495",
     "status": "completed"
    },
    "tags": []
   },
   "source": [
    "LOADING MODEL "
   ]
  },
  {
   "cell_type": "code",
   "execution_count": 17,
   "id": "93730fe4",
   "metadata": {
    "execution": {
     "iopub.execute_input": "2024-09-01T03:10:13.396846Z",
     "iopub.status.busy": "2024-09-01T03:10:13.396319Z",
     "iopub.status.idle": "2024-09-01T03:10:13.847998Z",
     "shell.execute_reply": "2024-09-01T03:10:13.846947Z"
    },
    "papermill": {
     "duration": 0.463848,
     "end_time": "2024-09-01T03:10:13.850386",
     "exception": false,
     "start_time": "2024-09-01T03:10:13.386538",
     "status": "completed"
    },
    "tags": []
   },
   "outputs": [],
   "source": [
    "model = models.resnet18().to(device)\n",
    "model.fc = nn.Sequential(nn.Flatten(),\n",
    "                         nn.Linear(model.fc.in_features,64),\n",
    "                         nn.ReLU(),\n",
    "                         nn.Dropout(p=0.5),\n",
    "                         nn.Linear(64,1),\n",
    "                         nn.Sigmoid()).to(device)\n"
   ]
  },
  {
   "cell_type": "code",
   "execution_count": 18,
   "id": "765eec86",
   "metadata": {
    "execution": {
     "iopub.execute_input": "2024-09-01T03:10:13.872348Z",
     "iopub.status.busy": "2024-09-01T03:10:13.871353Z",
     "iopub.status.idle": "2024-09-01T03:10:14.360123Z",
     "shell.execute_reply": "2024-09-01T03:10:14.359139Z"
    },
    "papermill": {
     "duration": 0.502353,
     "end_time": "2024-09-01T03:10:14.362414",
     "exception": false,
     "start_time": "2024-09-01T03:10:13.860061",
     "status": "completed"
    },
    "tags": []
   },
   "outputs": [
    {
     "data": {
      "text/plain": [
       "<All keys matched successfully>"
      ]
     },
     "execution_count": 18,
     "metadata": {},
     "output_type": "execute_result"
    }
   ],
   "source": [
    "model.load_state_dict(torch.load(f='/kaggle/input/resnet-v27/model_resnet (4).pth'))"
   ]
  },
  {
   "cell_type": "markdown",
   "id": "ecc20e26",
   "metadata": {
    "papermill": {
     "duration": 0.009253,
     "end_time": "2024-09-01T03:10:14.381604",
     "exception": false,
     "start_time": "2024-09-01T03:10:14.372351",
     "status": "completed"
    },
    "tags": []
   },
   "source": [
    "VALIDATION "
   ]
  },
  {
   "cell_type": "code",
   "execution_count": null,
   "id": "2f339ab6",
   "metadata": {
    "execution": {
     "iopub.execute_input": "2024-09-01T03:10:14.401144Z",
     "iopub.status.busy": "2024-09-01T03:10:14.400819Z",
     "iopub.status.idle": "2024-09-01T03:10:14.405111Z",
     "shell.execute_reply": "2024-09-01T03:10:14.404158Z"
    },
    "papermill": {
     "duration": 0.016551,
     "end_time": "2024-09-01T03:10:14.407079",
     "exception": false,
     "start_time": "2024-09-01T03:10:14.390528",
     "status": "completed"
    },
    "tags": []
   },
   "outputs": [],
   "source": [
    "def calc_auc(solution: pd.DataFrame, submission: pd.DataFrame, min_tpr: float=0.80):\n",
    "    '''\n",
    "    Function to calculate tpr from auc\n",
    "    solution : target\n",
    "    submission : predict \n",
    "    '''\n",
    "    v_gt = abs(np.asarray(solution.values)-1)\n",
    "    v_pred = np.array([1.0 - x for x in submission.values])\n",
    "    max_fpr = abs(1-min_tpr)\n",
    "    partial_auc_scaled = roc_auc_score(v_gt, v_pred, max_fpr=max_fpr)\n",
    "    partial_auc = 0.5 * max_fpr**2 + (max_fpr - 0.5 * max_fpr**2) / (1.0 - 0.5) * (partial_auc_scaled - 0.5)\n",
    "    return partial_auc"
   ]
  },
  {
   "cell_type": "code",
   "execution_count": null,
   "id": "6927f7b2",
   "metadata": {
    "execution": {
     "iopub.execute_input": "2024-09-01T03:10:14.426680Z",
     "iopub.status.busy": "2024-09-01T03:10:14.426432Z",
     "iopub.status.idle": "2024-09-01T03:10:14.430743Z",
     "shell.execute_reply": "2024-09-01T03:10:14.429943Z"
    },
    "papermill": {
     "duration": 0.0165,
     "end_time": "2024-09-01T03:10:14.432693",
     "exception": false,
     "start_time": "2024-09-01T03:10:14.416193",
     "status": "completed"
    },
    "tags": []
   },
   "outputs": [],
   "source": [
    "model.eval()\n",
    "\n",
    "all_labels = []\n",
    "all_probs = []  \n",
    "\n",
    "running_loss = 0 \n",
    "\n",
    "for images,labels in tqdm(val_data_loader) :\n",
    "    images,labels = images.to(device),labels.to(device)\n",
    "    output = model(images)\n",
    "    loss = loss_1(output.squeeze(),labels.type(torch.float))\n",
    "    running_loss += loss.item()\n",
    "    \n",
    "    sigmoid = torch.nn.Sigmoid()\n",
    "    probs = sigmoid(output).cpu().detach().numpy()\n",
    "    \n",
    "    all_labels.extend(labels.cpu().detach().numpy().flatten())\n",
    "    all_probs.extend(probs.flatten())\n",
    "\n",
    "pred_df = pd.DataFrame(all_probs, columns=['pred'])\n",
    "labels_df = pd.DataFrame(all_labels, columns=['targets'])\n",
    "\n",
    "val_auc_score = calc_auc(labels_df,pred_df)\n",
    "print(f\"val_auc_score = {val_auc_score}\")\n"
   ]
  },
  {
   "cell_type": "code",
   "execution_count": 21,
   "id": "1743e527",
   "metadata": {
    "execution": {
     "iopub.execute_input": "2024-09-01T03:10:14.452328Z",
     "iopub.status.busy": "2024-09-01T03:10:14.451736Z",
     "iopub.status.idle": "2024-09-01T03:10:14.455542Z",
     "shell.execute_reply": "2024-09-01T03:10:14.454617Z"
    },
    "papermill": {
     "duration": 0.015257,
     "end_time": "2024-09-01T03:10:14.457322",
     "exception": false,
     "start_time": "2024-09-01T03:10:14.442065",
     "status": "completed"
    },
    "tags": []
   },
   "outputs": [],
   "source": [
    "# print(val_output)"
   ]
  },
  {
   "cell_type": "markdown",
   "id": "cb4ccd81",
   "metadata": {
    "papermill": {
     "duration": 0.009761,
     "end_time": "2024-09-01T03:10:14.476262",
     "exception": false,
     "start_time": "2024-09-01T03:10:14.466501",
     "status": "completed"
    },
    "tags": []
   },
   "source": [
    "**TESTING**"
   ]
  },
  {
   "cell_type": "code",
   "execution_count": 22,
   "id": "f4166559",
   "metadata": {
    "execution": {
     "iopub.execute_input": "2024-09-01T03:10:14.496032Z",
     "iopub.status.busy": "2024-09-01T03:10:14.495743Z",
     "iopub.status.idle": "2024-09-01T03:10:14.499816Z",
     "shell.execute_reply": "2024-09-01T03:10:14.498800Z"
    },
    "papermill": {
     "duration": 0.0159,
     "end_time": "2024-09-01T03:10:14.501861",
     "exception": false,
     "start_time": "2024-09-01T03:10:14.485961",
     "status": "completed"
    },
    "tags": []
   },
   "outputs": [],
   "source": [
    "test_meta='/kaggle/input/isic-2024-challenge/test-metadata.csv'\n",
    "test_hdf5='/kaggle/input/isic-2024-challenge/test-image.hdf5'"
   ]
  },
  {
   "cell_type": "code",
   "execution_count": 23,
   "id": "5b6869b7",
   "metadata": {
    "execution": {
     "iopub.execute_input": "2024-09-01T03:10:14.521186Z",
     "iopub.status.busy": "2024-09-01T03:10:14.520890Z",
     "iopub.status.idle": "2024-09-01T03:10:14.526354Z",
     "shell.execute_reply": "2024-09-01T03:10:14.525481Z"
    },
    "papermill": {
     "duration": 0.017346,
     "end_time": "2024-09-01T03:10:14.528227",
     "exception": false,
     "start_time": "2024-09-01T03:10:14.510881",
     "status": "completed"
    },
    "tags": []
   },
   "outputs": [],
   "source": [
    "test_transformations = A.Compose([ \n",
    "    A.Resize(height=224, width=224), #resize \n",
    "#     A.OneOf([A.RGBShift(r_shift_limit=15, g_shift_limit=15, b_shift_limit=15),\n",
    "#              A.RandomBrightnessContrast() \n",
    "#              ], p=0.5),\n",
    "#     A.HorizontalFlip(p=0.5),\n",
    "#     A.VerticalFlip(p=0.5),\n",
    "    # !!One needs to change the mean and std values to appropriate ones for this dataset.!!\n",
    "    A.transforms.Normalize(mean=[0.485, 0.456, 0.406], std=[0.229, 0.224, 0.225], max_pixel_value=1.0),\n",
    "    ToTensorV2(),\n",
    "])"
   ]
  },
  {
   "cell_type": "code",
   "execution_count": 24,
   "id": "3e146f7b",
   "metadata": {
    "execution": {
     "iopub.execute_input": "2024-09-01T03:10:14.548148Z",
     "iopub.status.busy": "2024-09-01T03:10:14.547831Z",
     "iopub.status.idle": "2024-09-01T03:10:14.555843Z",
     "shell.execute_reply": "2024-09-01T03:10:14.554946Z"
    },
    "papermill": {
     "duration": 0.020185,
     "end_time": "2024-09-01T03:10:14.557783",
     "exception": false,
     "start_time": "2024-09-01T03:10:14.537598",
     "status": "completed"
    },
    "tags": []
   },
   "outputs": [],
   "source": [
    "\n",
    "class HDF5Dataset_test(Dataset): #defining the dataset \n",
    "    def __init__(self, data, metadata, transform=None):\n",
    "        self.data = h5py.File(data, 'r') #creating data argument\n",
    "        if type(metadata) is pd.DataFrame:\n",
    "            self.metadata = metadata\n",
    "        else:\n",
    "            self.metadata = pd.read_csv(metadata,low_memory = False)\n",
    "        self.transform = transform #creating transform argument \n",
    "\n",
    "    def __len__(self):\n",
    "        return len(self.metadata) #returns dataset \n",
    "\n",
    "    def __getitem__(self, idx):#gets image and label \n",
    "        img_name = self.metadata['isic_id'].iloc[idx] #accesses image filepath \n",
    "        image = np.array(self.data[img_name]) #opens image\n",
    "        image = np.array(Image.open(io.BytesIO(image)),dtype=np.float32)/255\n",
    "\n",
    "#         label = int(self.metadata['target'].iloc[idx]) #find the label \n",
    "\n",
    "        if self.transform:\n",
    "            augmented = self.transform(image=image) #transformation \n",
    "            image = augmented['image'] #grab the augmented image \n",
    "\n",
    "        return image"
   ]
  },
  {
   "cell_type": "code",
   "execution_count": 25,
   "id": "2b33be10",
   "metadata": {
    "execution": {
     "iopub.execute_input": "2024-09-01T03:10:14.578855Z",
     "iopub.status.busy": "2024-09-01T03:10:14.578588Z",
     "iopub.status.idle": "2024-09-01T03:10:14.602757Z",
     "shell.execute_reply": "2024-09-01T03:10:14.601958Z"
    },
    "papermill": {
     "duration": 0.037574,
     "end_time": "2024-09-01T03:10:14.605065",
     "exception": false,
     "start_time": "2024-09-01T03:10:14.567491",
     "status": "completed"
    },
    "tags": []
   },
   "outputs": [],
   "source": [
    "test_data = HDF5Dataset_test(test_hdf5,test_meta,test_transformations)\n",
    "test_data_loader = DataLoader(test_data,1,shuffle=False)"
   ]
  },
  {
   "cell_type": "code",
   "execution_count": 26,
   "id": "f83ff8fd",
   "metadata": {
    "execution": {
     "iopub.execute_input": "2024-09-01T03:10:14.626592Z",
     "iopub.status.busy": "2024-09-01T03:10:14.626303Z",
     "iopub.status.idle": "2024-09-01T03:10:14.630749Z",
     "shell.execute_reply": "2024-09-01T03:10:14.629820Z"
    },
    "papermill": {
     "duration": 0.017485,
     "end_time": "2024-09-01T03:10:14.632841",
     "exception": false,
     "start_time": "2024-09-01T03:10:14.615356",
     "status": "completed"
    },
    "tags": []
   },
   "outputs": [],
   "source": [
    "test_outputs = np.zeros(len(test_data))"
   ]
  },
  {
   "cell_type": "code",
   "execution_count": 27,
   "id": "803067bf",
   "metadata": {
    "execution": {
     "iopub.execute_input": "2024-09-01T03:10:14.654032Z",
     "iopub.status.busy": "2024-09-01T03:10:14.653734Z",
     "iopub.status.idle": "2024-09-01T03:10:15.380312Z",
     "shell.execute_reply": "2024-09-01T03:10:15.379093Z"
    },
    "papermill": {
     "duration": 0.739825,
     "end_time": "2024-09-01T03:10:15.382635",
     "exception": false,
     "start_time": "2024-09-01T03:10:14.642810",
     "status": "completed"
    },
    "tags": []
   },
   "outputs": [],
   "source": [
    "i = 0\n",
    "model.eval()\n",
    "for image in test_data_loader :\n",
    "    image = image.to(device)\n",
    "    test_outputs[i] = model(image).item()\n",
    "    i = i+1 "
   ]
  },
  {
   "cell_type": "code",
   "execution_count": 28,
   "id": "cdf3484d",
   "metadata": {
    "execution": {
     "iopub.execute_input": "2024-09-01T03:10:15.404525Z",
     "iopub.status.busy": "2024-09-01T03:10:15.404205Z",
     "iopub.status.idle": "2024-09-01T03:10:15.411967Z",
     "shell.execute_reply": "2024-09-01T03:10:15.411187Z"
    },
    "papermill": {
     "duration": 0.020215,
     "end_time": "2024-09-01T03:10:15.413823",
     "exception": false,
     "start_time": "2024-09-01T03:10:15.393608",
     "status": "completed"
    },
    "tags": []
   },
   "outputs": [],
   "source": [
    "df_test = pd.read_csv('/kaggle/input/isic-2024-challenge/test-metadata.csv')"
   ]
  },
  {
   "cell_type": "code",
   "execution_count": 29,
   "id": "215ae4b5",
   "metadata": {
    "execution": {
     "iopub.execute_input": "2024-09-01T03:10:15.433615Z",
     "iopub.status.busy": "2024-09-01T03:10:15.432939Z",
     "iopub.status.idle": "2024-09-01T03:10:15.441659Z",
     "shell.execute_reply": "2024-09-01T03:10:15.440798Z"
    },
    "papermill": {
     "duration": 0.020383,
     "end_time": "2024-09-01T03:10:15.443567",
     "exception": false,
     "start_time": "2024-09-01T03:10:15.423184",
     "status": "completed"
    },
    "tags": []
   },
   "outputs": [],
   "source": [
    "df_sample_submission = pd.DataFrame({'isic_id' : df_test['isic_id'],'target' : test_outputs})\n",
    "df_sample_submission.to_csv('/kaggle/working/submission.csv',index=False)"
   ]
  },
  {
   "cell_type": "code",
   "execution_count": 30,
   "id": "5af2feb8",
   "metadata": {
    "execution": {
     "iopub.execute_input": "2024-09-01T03:10:15.462936Z",
     "iopub.status.busy": "2024-09-01T03:10:15.462678Z",
     "iopub.status.idle": "2024-09-01T03:10:15.472560Z",
     "shell.execute_reply": "2024-09-01T03:10:15.471436Z"
    },
    "papermill": {
     "duration": 0.022191,
     "end_time": "2024-09-01T03:10:15.474771",
     "exception": false,
     "start_time": "2024-09-01T03:10:15.452580",
     "status": "completed"
    },
    "tags": []
   },
   "outputs": [
    {
     "name": "stdout",
     "output_type": "stream",
     "text": [
      "        isic_id    target\n",
      "0  ISIC_0015657  0.000191\n",
      "1  ISIC_0015729  0.000053\n",
      "2  ISIC_0015740  0.000128\n"
     ]
    }
   ],
   "source": [
    "print(df_sample_submission)"
   ]
  }
 ],
 "metadata": {
  "kaggle": {
   "accelerator": "gpu",
   "dataSources": [
    {
     "databundleVersionId": 9094797,
     "sourceId": 63056,
     "sourceType": "competition"
    },
    {
     "datasetId": 5620333,
     "sourceId": 9285002,
     "sourceType": "datasetVersion"
    },
    {
     "datasetId": 5625028,
     "sourceId": 9291591,
     "sourceType": "datasetVersion"
    }
   ],
   "dockerImageVersionId": 30746,
   "isGpuEnabled": true,
   "isInternetEnabled": false,
   "language": "python",
   "sourceType": "notebook"
  },
  "kernelspec": {
   "display_name": "Python 3",
   "language": "python",
   "name": "python3"
  },
  "language_info": {
   "codemirror_mode": {
    "name": "ipython",
    "version": 3
   },
   "file_extension": ".py",
   "mimetype": "text/x-python",
   "name": "python",
   "nbconvert_exporter": "python",
   "pygments_lexer": "ipython3",
   "version": "3.10.13"
  },
  "papermill": {
   "default_parameters": {},
   "duration": 15.031472,
   "end_time": "2024-09-01T03:10:17.005716",
   "environment_variables": {},
   "exception": null,
   "input_path": "__notebook__.ipynb",
   "output_path": "__notebook__.ipynb",
   "parameters": {},
   "start_time": "2024-09-01T03:10:01.974244",
   "version": "2.5.0"
  }
 },
 "nbformat": 4,
 "nbformat_minor": 5
}

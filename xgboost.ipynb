{
 "cells": [
  {
   "cell_type": "code",
   "execution_count": 1,
   "id": "8c8b277f",
   "metadata": {
    "_cell_guid": "b1076dfc-b9ad-4769-8c92-a6c4dae69d19",
    "_uuid": "8f2839f25d086af736a60e9eeb907d3b93b6e0e5",
    "execution": {
     "iopub.execute_input": "2024-08-23T22:19:41.941922Z",
     "iopub.status.busy": "2024-08-23T22:19:41.941080Z",
     "iopub.status.idle": "2024-08-23T22:19:42.704441Z",
     "shell.execute_reply": "2024-08-23T22:19:42.703570Z"
    },
    "papermill": {
     "duration": 0.774353,
     "end_time": "2024-08-23T22:19:42.706845",
     "exception": false,
     "start_time": "2024-08-23T22:19:41.932492",
     "status": "completed"
    },
    "tags": []
   },
   "outputs": [],
   "source": [
    "# This Python 3 environment comes with many helpful analytics libraries installed\n",
    "# It is defined by the kaggle/python Docker image: https://github.com/kaggle/docker-python\n",
    "# For example, here's several helpful packages to load\n",
    "\n",
    "import numpy as np # linear algebra\n",
    "import pandas as pd # data processing, CSV file I/O (e.g. pd.read_csv)\n",
    "\n",
    "# Input data files are available in the read-only \"../input/\" directory\n",
    "# For example, running this (by clicking run or pressing Shift+Enter) will list all files under the input directory\n",
    "\n",
    "# import os\n",
    "# for dirname, _, filenames in os.walk('/kaggle/input'):\n",
    "#     for filename in filenames:\n",
    "#         print(os.path.join(dirname, filename))\n",
    "\n",
    "# You can write up to 20GB to the current directory (/kaggle/working/) that gets preserved as output when you create a version using \"Save & Run All\" \n",
    "# You can also write temporary files to /kaggle/temp/, but they won't be saved outside of the current session"
   ]
  },
  {
   "cell_type": "code",
   "execution_count": 2,
   "id": "fca32293",
   "metadata": {
    "execution": {
     "iopub.execute_input": "2024-08-23T22:19:42.719602Z",
     "iopub.status.busy": "2024-08-23T22:19:42.718920Z",
     "iopub.status.idle": "2024-08-23T22:19:44.614371Z",
     "shell.execute_reply": "2024-08-23T22:19:44.613607Z"
    },
    "papermill": {
     "duration": 1.904101,
     "end_time": "2024-08-23T22:19:44.616747",
     "exception": false,
     "start_time": "2024-08-23T22:19:42.712646",
     "status": "completed"
    },
    "tags": []
   },
   "outputs": [],
   "source": [
    "from xgboost import XGBClassifier\n",
    "from sklearn.model_selection import *\n",
    "from sklearn.preprocessing import *\n",
    "from sklearn.metrics import *\n",
    "from sklearn.experimental import enable_iterative_imputer\n",
    "from sklearn.impute import IterativeImputer\n",
    "from sklearn.model_selection import StratifiedKFold\n",
    "from sklearn.preprocessing import OrdinalEncoder\n",
    "import category_encoders as ce"
   ]
  },
  {
   "cell_type": "code",
   "execution_count": 3,
   "id": "7bebe6a8",
   "metadata": {
    "execution": {
     "iopub.execute_input": "2024-08-23T22:19:44.629582Z",
     "iopub.status.busy": "2024-08-23T22:19:44.628619Z",
     "iopub.status.idle": "2024-08-23T22:19:53.753052Z",
     "shell.execute_reply": "2024-08-23T22:19:53.752260Z"
    },
    "papermill": {
     "duration": 9.133246,
     "end_time": "2024-08-23T22:19:53.755599",
     "exception": false,
     "start_time": "2024-08-23T22:19:44.622353",
     "status": "completed"
    },
    "tags": []
   },
   "outputs": [],
   "source": [
    "train_meta_or = pd.read_csv('/kaggle/input/isic-2024-challenge/train-metadata.csv',low_memory=False)\n",
    "test_meta_or = pd.read_csv('/kaggle/input/isic-2024-challenge/test-metadata.csv',low_memory=False)\n",
    "\n",
    "train_meta = train_meta_or.drop('isic_id', axis=1)\n",
    "test_meta = test_meta_or.drop('isic_id', axis=1)\n",
    "\n",
    "y_train_df = train_meta['target']\n",
    "\n",
    "diff_train_test = set(train_meta.columns) - set(test_meta.columns)\n",
    "\n",
    "x_train_df = train_meta.drop(columns=diff_train_test)"
   ]
  },
  {
   "cell_type": "code",
   "execution_count": 4,
   "id": "7ab57c5e",
   "metadata": {
    "execution": {
     "iopub.execute_input": "2024-08-23T22:19:53.768517Z",
     "iopub.status.busy": "2024-08-23T22:19:53.767687Z",
     "iopub.status.idle": "2024-08-23T22:19:55.660252Z",
     "shell.execute_reply": "2024-08-23T22:19:55.659495Z"
    },
    "papermill": {
     "duration": 1.901146,
     "end_time": "2024-08-23T22:19:55.662583",
     "exception": false,
     "start_time": "2024-08-23T22:19:53.761437",
     "status": "completed"
    },
    "tags": []
   },
   "outputs": [],
   "source": [
    "cat_cols = [\"sex\", \"tbp_tile_type\", \"tbp_lv_location\", \"tbp_lv_location_simple\",'patient_id',\n",
    "   'anatom_site_general','copyright_license','attribution','image_type']\n",
    "\n",
    "\n",
    "\n",
    "encoder = ce.OrdinalEncoder(cols=cat_cols)\n",
    "x_train_df = encoder.fit_transform(x_train_df)\n",
    "x_test_df = encoder.transform(test_meta)"
   ]
  },
  {
   "cell_type": "code",
   "execution_count": 5,
   "id": "08e68f45",
   "metadata": {
    "execution": {
     "iopub.execute_input": "2024-08-23T22:19:55.674882Z",
     "iopub.status.busy": "2024-08-23T22:19:55.674587Z",
     "iopub.status.idle": "2024-08-23T22:19:55.680969Z",
     "shell.execute_reply": "2024-08-23T22:19:55.680119Z"
    },
    "papermill": {
     "duration": 0.014618,
     "end_time": "2024-08-23T22:19:55.682862",
     "exception": false,
     "start_time": "2024-08-23T22:19:55.668244",
     "status": "completed"
    },
    "tags": []
   },
   "outputs": [],
   "source": [
    "def calc_auc(solution: pd.DataFrame, submission: pd.DataFrame, min_tpr: float=0.80):\n",
    "    '''\n",
    "    Function to calculate tpr from auc\n",
    "    solution : target\n",
    "    submission : predict \n",
    "    '''\n",
    "    v_gt = abs(np.asarray(solution.values)-1)\n",
    "    v_pred = np.array([1.0 - x for x in submission.values])\n",
    "    max_fpr = abs(1-min_tpr)\n",
    "    partial_auc_scaled = roc_auc_score(v_gt, v_pred, max_fpr=max_fpr)\n",
    "    partial_auc = 0.5 * max_fpr**2 + (max_fpr - 0.5 * max_fpr**2) / (1.0 - 0.5) * (partial_auc_scaled - 0.5)\n",
    "    return partial_auc"
   ]
  },
  {
   "cell_type": "code",
   "execution_count": 6,
   "id": "3048cb09",
   "metadata": {
    "execution": {
     "iopub.execute_input": "2024-08-23T22:19:55.694762Z",
     "iopub.status.busy": "2024-08-23T22:19:55.694457Z",
     "iopub.status.idle": "2024-08-23T22:19:55.704235Z",
     "shell.execute_reply": "2024-08-23T22:19:55.703421Z"
    },
    "papermill": {
     "duration": 0.017933,
     "end_time": "2024-08-23T22:19:55.706064",
     "exception": false,
     "start_time": "2024-08-23T22:19:55.688131",
     "status": "completed"
    },
    "tags": []
   },
   "outputs": [],
   "source": [
    "def train_model(main_model,X,y,X_test,n_splits):\n",
    "    \n",
    "    skf = StratifiedKFold(n_splits=n_splits,shuffle=True,random_state=42)\n",
    "    train_scores = []\n",
    "    val_scores = []\n",
    "    test_predictions = [] \n",
    "    models = []\n",
    "    \n",
    "    for fold, (train_index, test_index) in enumerate(skf.split(X, y), 1):\n",
    "        \n",
    "        x_train, x_val = X.iloc[train_index], X.iloc[test_index]\n",
    "        y_train, y_val = y.iloc[train_index], y.iloc[test_index]\n",
    "        \n",
    "        model = main_model\n",
    "        \n",
    "        model.fit(x_train,y_train)\n",
    "        \n",
    "        y_train_pred_proba = model.predict_proba(x_train)[:, 1]\n",
    "        y_train_pred_df = pd.DataFrame(y_train_pred_proba, columns=['pred'])\n",
    "        train_pauc = calc_auc(y_train,y_train_pred_df,min_tpr=0.8)\n",
    "        train_scores.append(train_pauc)\n",
    "                                 \n",
    "        y_val_pred_proba = model.predict_proba(x_val)[:, 1]\n",
    "        y_val_pred_df = pd.DataFrame(y_val_pred_proba, columns=['pred'])\n",
    "        val_pauc = calc_auc(y_val,y_val_pred_df,min_tpr=0.8)\n",
    "        val_scores.append(val_pauc)\n",
    "                                       \n",
    "        y_test_pred_proba = model.predict_proba(X_test)[:, 1]\n",
    "        test_predictions.append(y_test_pred_proba)\n",
    "        \n",
    "        models.append(model)\n",
    "        \n",
    "        print(f\"Fold {fold}: Train pAUC = {train_pauc:.4f}, Validation pAUC = {val_pauc:.4f}\")\n",
    "                                       \n",
    "    mean_train_pauc = np.mean(train_scores)\n",
    "    mean_val_pauc = np.mean(val_scores)         \n",
    "    \n",
    "    print(f\"\\nMean Train pAUC: {mean_train_pauc:.4f}\")\n",
    "    print(f\"Mean Validation pAUC: {mean_val_pauc:.4f}\")\n",
    "                                 \n",
    "    return model,test_predictions,models\n",
    "\n",
    "    "
   ]
  },
  {
   "cell_type": "code",
   "execution_count": 7,
   "id": "13f0ca5c",
   "metadata": {
    "execution": {
     "iopub.execute_input": "2024-08-23T22:19:55.717758Z",
     "iopub.status.busy": "2024-08-23T22:19:55.717480Z",
     "iopub.status.idle": "2024-08-23T22:19:55.722441Z",
     "shell.execute_reply": "2024-08-23T22:19:55.721625Z"
    },
    "papermill": {
     "duration": 0.013011,
     "end_time": "2024-08-23T22:19:55.724357",
     "exception": false,
     "start_time": "2024-08-23T22:19:55.711346",
     "status": "completed"
    },
    "tags": []
   },
   "outputs": [],
   "source": [
    "# params = {\n",
    "#     'objective': 'binary:logistic', \n",
    "#     'max_depth': 4 ,\n",
    "#     'learning_rate': 0.09,\n",
    "#     'n_estimators': 1400,\n",
    "#     'device' : \"cuda\"  # Use GPU\n",
    "#               }\n",
    "\n",
    "params = {\n",
    "    'objective': 'binary:logistic', \n",
    "#     'colsample_bytree': 0.11756728710020253,\n",
    "    'max_depth': 4, \n",
    "    'learning_rate': 0.009393224320850784,\n",
    "    'n_estimators': 1227, \n",
    "#     'subsample': 0.9589462514195692,\n",
    "    'lambda': 0.34216652262461505,\n",
    "    'alpha': 1.150597512455824e-07,\n",
    "    'device' : \"cuda\"\n",
    "              }\n",
    "\n",
    "xgb_Model = XGBClassifier(**params,random_state=42)\n"
   ]
  },
  {
   "cell_type": "code",
   "execution_count": 8,
   "id": "06d117e0",
   "metadata": {
    "execution": {
     "iopub.execute_input": "2024-08-23T22:19:55.735923Z",
     "iopub.status.busy": "2024-08-23T22:19:55.735651Z",
     "iopub.status.idle": "2024-08-23T22:20:54.390058Z",
     "shell.execute_reply": "2024-08-23T22:20:54.389046Z"
    },
    "papermill": {
     "duration": 58.66254,
     "end_time": "2024-08-23T22:20:54.392135",
     "exception": false,
     "start_time": "2024-08-23T22:19:55.729595",
     "status": "completed"
    },
    "tags": []
   },
   "outputs": [
    {
     "name": "stderr",
     "output_type": "stream",
     "text": [
      "/opt/conda/lib/python3.10/site-packages/xgboost/core.py:160: UserWarning: [22:20:06] WARNING: /workspace/src/common/error_msg.cc:58: Falling back to prediction using DMatrix due to mismatched devices. This might lead to higher memory usage and slower performance. XGBoost is running on: cuda:0, while the input data is on: cpu.\n",
      "Potential solutions:\n",
      "- Use a data structure that matches the device ordinal in the booster.\n",
      "- Set the device for booster before call to inplace_predict.\n",
      "\n",
      "This warning will only be shown once.\n",
      "\n",
      "  warnings.warn(smsg, UserWarning)\n"
     ]
    },
    {
     "name": "stdout",
     "output_type": "stream",
     "text": [
      "Fold 1: Train pAUC = 0.1938, Validation pAUC = 0.1680\n",
      "Fold 2: Train pAUC = 0.1919, Validation pAUC = 0.1557\n",
      "Fold 3: Train pAUC = 0.1911, Validation pAUC = 0.1592\n",
      "Fold 4: Train pAUC = 0.1912, Validation pAUC = 0.1526\n",
      "Fold 5: Train pAUC = 0.1926, Validation pAUC = 0.1731\n",
      "\n",
      "Mean Train pAUC: 0.1921\n",
      "Mean Validation pAUC: 0.1617\n"
     ]
    }
   ],
   "source": [
    "k_folds = 5\n",
    "trained_xgb,test_preds,all_models = train_model(xgb_Model,x_train_df,y_train_df,x_test_df,k_folds)"
   ]
  },
  {
   "cell_type": "code",
   "execution_count": 9,
   "id": "a1501bbe",
   "metadata": {
    "execution": {
     "iopub.execute_input": "2024-08-23T22:20:54.405832Z",
     "iopub.status.busy": "2024-08-23T22:20:54.405493Z",
     "iopub.status.idle": "2024-08-23T22:20:54.409567Z",
     "shell.execute_reply": "2024-08-23T22:20:54.408703Z"
    },
    "papermill": {
     "duration": 0.01336,
     "end_time": "2024-08-23T22:20:54.411586",
     "exception": false,
     "start_time": "2024-08-23T22:20:54.398226",
     "status": "completed"
    },
    "tags": []
   },
   "outputs": [],
   "source": [
    "# xgb_Model.load_model('/kaggle/working/model_xgboost.json')"
   ]
  },
  {
   "cell_type": "code",
   "execution_count": 10,
   "id": "c97e8624",
   "metadata": {
    "execution": {
     "iopub.execute_input": "2024-08-23T22:20:54.424802Z",
     "iopub.status.busy": "2024-08-23T22:20:54.424505Z",
     "iopub.status.idle": "2024-08-23T22:20:54.428824Z",
     "shell.execute_reply": "2024-08-23T22:20:54.427923Z"
    },
    "papermill": {
     "duration": 0.013114,
     "end_time": "2024-08-23T22:20:54.430828",
     "exception": false,
     "start_time": "2024-08-23T22:20:54.417714",
     "status": "completed"
    },
    "tags": []
   },
   "outputs": [],
   "source": [
    "# # Assume `model` is your trained XGBoost model\n",
    "# model_path = '/kaggle/working/model_xgboost.json'  # You can choose a different path or filename\n",
    "\n",
    "# # Save the model\n",
    "# trained_xgb.save_model(model_path)"
   ]
  },
  {
   "cell_type": "code",
   "execution_count": 11,
   "id": "f549c434",
   "metadata": {
    "execution": {
     "iopub.execute_input": "2024-08-23T22:20:54.443946Z",
     "iopub.status.busy": "2024-08-23T22:20:54.443658Z",
     "iopub.status.idle": "2024-08-23T22:20:54.447280Z",
     "shell.execute_reply": "2024-08-23T22:20:54.446450Z"
    },
    "papermill": {
     "duration": 0.012248,
     "end_time": "2024-08-23T22:20:54.449260",
     "exception": false,
     "start_time": "2024-08-23T22:20:54.437012",
     "status": "completed"
    },
    "tags": []
   },
   "outputs": [],
   "source": [
    "# test_ouputs = xgb_Model.predict_proba(x_test_df)[:, 1]"
   ]
  },
  {
   "cell_type": "code",
   "execution_count": 12,
   "id": "a7307c55",
   "metadata": {
    "execution": {
     "iopub.execute_input": "2024-08-23T22:20:54.463139Z",
     "iopub.status.busy": "2024-08-23T22:20:54.462519Z",
     "iopub.status.idle": "2024-08-23T22:20:54.466106Z",
     "shell.execute_reply": "2024-08-23T22:20:54.465308Z"
    },
    "papermill": {
     "duration": 0.01246,
     "end_time": "2024-08-23T22:20:54.467977",
     "exception": false,
     "start_time": "2024-08-23T22:20:54.455517",
     "status": "completed"
    },
    "tags": []
   },
   "outputs": [],
   "source": [
    "# test_preds[i]"
   ]
  },
  {
   "cell_type": "code",
   "execution_count": 13,
   "id": "7254b964",
   "metadata": {
    "execution": {
     "iopub.execute_input": "2024-08-23T22:20:54.480794Z",
     "iopub.status.busy": "2024-08-23T22:20:54.480318Z",
     "iopub.status.idle": "2024-08-23T22:20:54.483954Z",
     "shell.execute_reply": "2024-08-23T22:20:54.483167Z"
    },
    "papermill": {
     "duration": 0.011936,
     "end_time": "2024-08-23T22:20:54.485736",
     "exception": false,
     "start_time": "2024-08-23T22:20:54.473800",
     "status": "completed"
    },
    "tags": []
   },
   "outputs": [],
   "source": [
    "# test_outputs = np.zeros(len(x_test_df))\n",
    "\n",
    "# for i in range(k_folds):\n",
    "    \n",
    "#     test_outputs[i] = test_preds[i].sum()"
   ]
  },
  {
   "cell_type": "code",
   "execution_count": 14,
   "id": "406a0960",
   "metadata": {
    "execution": {
     "iopub.execute_input": "2024-08-23T22:20:54.499696Z",
     "iopub.status.busy": "2024-08-23T22:20:54.499158Z",
     "iopub.status.idle": "2024-08-23T22:20:54.503043Z",
     "shell.execute_reply": "2024-08-23T22:20:54.502223Z"
    },
    "papermill": {
     "duration": 0.012529,
     "end_time": "2024-08-23T22:20:54.505020",
     "exception": false,
     "start_time": "2024-08-23T22:20:54.492491",
     "status": "completed"
    },
    "tags": []
   },
   "outputs": [],
   "source": [
    "test_outputs = np.zeros(len(x_test_df))"
   ]
  },
  {
   "cell_type": "code",
   "execution_count": 15,
   "id": "cbe7a559",
   "metadata": {
    "execution": {
     "iopub.execute_input": "2024-08-23T22:20:54.517726Z",
     "iopub.status.busy": "2024-08-23T22:20:54.517247Z",
     "iopub.status.idle": "2024-08-23T22:20:54.521511Z",
     "shell.execute_reply": "2024-08-23T22:20:54.520725Z"
    },
    "papermill": {
     "duration": 0.0128,
     "end_time": "2024-08-23T22:20:54.523480",
     "exception": false,
     "start_time": "2024-08-23T22:20:54.510680",
     "status": "completed"
    },
    "tags": []
   },
   "outputs": [],
   "source": [
    "for i in range(k_folds) :\n",
    "    test_outputs += test_preds[i]\n",
    "\n",
    "test_outputs /= k_folds"
   ]
  },
  {
   "cell_type": "code",
   "execution_count": 16,
   "id": "9ef81f65",
   "metadata": {
    "execution": {
     "iopub.execute_input": "2024-08-23T22:20:54.535898Z",
     "iopub.status.busy": "2024-08-23T22:20:54.535653Z",
     "iopub.status.idle": "2024-08-23T22:20:54.540219Z",
     "shell.execute_reply": "2024-08-23T22:20:54.539442Z"
    },
    "papermill": {
     "duration": 0.012903,
     "end_time": "2024-08-23T22:20:54.542161",
     "exception": false,
     "start_time": "2024-08-23T22:20:54.529258",
     "status": "completed"
    },
    "tags": []
   },
   "outputs": [],
   "source": [
    "df_sample_submission = pd.DataFrame({'isic_id' : test_meta_or['isic_id'],'target' : test_outputs}) "
   ]
  },
  {
   "cell_type": "code",
   "execution_count": 17,
   "id": "020ff9f4",
   "metadata": {
    "execution": {
     "iopub.execute_input": "2024-08-23T22:20:54.554945Z",
     "iopub.status.busy": "2024-08-23T22:20:54.554330Z",
     "iopub.status.idle": "2024-08-23T22:20:54.566544Z",
     "shell.execute_reply": "2024-08-23T22:20:54.565740Z"
    },
    "papermill": {
     "duration": 0.020661,
     "end_time": "2024-08-23T22:20:54.568596",
     "exception": false,
     "start_time": "2024-08-23T22:20:54.547935",
     "status": "completed"
    },
    "tags": []
   },
   "outputs": [
    {
     "data": {
      "text/html": [
       "<div>\n",
       "<style scoped>\n",
       "    .dataframe tbody tr th:only-of-type {\n",
       "        vertical-align: middle;\n",
       "    }\n",
       "\n",
       "    .dataframe tbody tr th {\n",
       "        vertical-align: top;\n",
       "    }\n",
       "\n",
       "    .dataframe thead th {\n",
       "        text-align: right;\n",
       "    }\n",
       "</style>\n",
       "<table border=\"1\" class=\"dataframe\">\n",
       "  <thead>\n",
       "    <tr style=\"text-align: right;\">\n",
       "      <th></th>\n",
       "      <th>isic_id</th>\n",
       "      <th>target</th>\n",
       "    </tr>\n",
       "  </thead>\n",
       "  <tbody>\n",
       "    <tr>\n",
       "      <th>0</th>\n",
       "      <td>ISIC_0015657</td>\n",
       "      <td>0.000197</td>\n",
       "    </tr>\n",
       "    <tr>\n",
       "      <th>1</th>\n",
       "      <td>ISIC_0015729</td>\n",
       "      <td>0.000072</td>\n",
       "    </tr>\n",
       "    <tr>\n",
       "      <th>2</th>\n",
       "      <td>ISIC_0015740</td>\n",
       "      <td>0.000297</td>\n",
       "    </tr>\n",
       "  </tbody>\n",
       "</table>\n",
       "</div>"
      ],
      "text/plain": [
       "        isic_id    target\n",
       "0  ISIC_0015657  0.000197\n",
       "1  ISIC_0015729  0.000072\n",
       "2  ISIC_0015740  0.000297"
      ]
     },
     "execution_count": 17,
     "metadata": {},
     "output_type": "execute_result"
    }
   ],
   "source": [
    "df_sample_submission"
   ]
  },
  {
   "cell_type": "code",
   "execution_count": 18,
   "id": "3d889ca4",
   "metadata": {
    "execution": {
     "iopub.execute_input": "2024-08-23T22:20:54.583289Z",
     "iopub.status.busy": "2024-08-23T22:20:54.582671Z",
     "iopub.status.idle": "2024-08-23T22:20:54.591891Z",
     "shell.execute_reply": "2024-08-23T22:20:54.591154Z"
    },
    "papermill": {
     "duration": 0.018507,
     "end_time": "2024-08-23T22:20:54.593762",
     "exception": false,
     "start_time": "2024-08-23T22:20:54.575255",
     "status": "completed"
    },
    "tags": []
   },
   "outputs": [],
   "source": [
    "df_sample_submission.to_csv('/kaggle/working/submission.csv',index=False)"
   ]
  }
 ],
 "metadata": {
  "kaggle": {
   "accelerator": "gpu",
   "dataSources": [
    {
     "databundleVersionId": 9094797,
     "sourceId": 63056,
     "sourceType": "competition"
    }
   ],
   "dockerImageVersionId": 30746,
   "isGpuEnabled": true,
   "isInternetEnabled": false,
   "language": "python",
   "sourceType": "notebook"
  },
  "kernelspec": {
   "display_name": "Python 3",
   "language": "python",
   "name": "python3"
  },
  "language_info": {
   "codemirror_mode": {
    "name": "ipython",
    "version": 3
   },
   "file_extension": ".py",
   "mimetype": "text/x-python",
   "name": "python",
   "nbconvert_exporter": "python",
   "pygments_lexer": "ipython3",
   "version": "3.10.13"
  },
  "papermill": {
   "default_parameters": {},
   "duration": 76.082923,
   "end_time": "2024-08-23T22:20:55.218628",
   "environment_variables": {},
   "exception": null,
   "input_path": "__notebook__.ipynb",
   "output_path": "__notebook__.ipynb",
   "parameters": {},
   "start_time": "2024-08-23T22:19:39.135705",
   "version": "2.5.0"
  }
 },
 "nbformat": 4,
 "nbformat_minor": 5
}
